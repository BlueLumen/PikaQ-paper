{
 "cells": [
  {
   "cell_type": "markdown",
   "id": "e5a39024",
   "metadata": {},
   "source": [
    "读着读着发现，事情不是我想象的那么简单。先mark一下，随着以后的进度回过头来再解决这个问题。"
   ]
  },
  {
   "cell_type": "code",
   "execution_count": null,
   "id": "db6a2f7d",
   "metadata": {},
   "outputs": [],
   "source": [
    "class StochasticGreedy(BaseOptimizer):\n",
    "    \n",
    "    # 代码来源：斯坦福大佬\n",
    "    # https://github.com/jmschrei/apricot\n",
    "    \n",
    "    # 参数注释：\n",
    "    # https://apricot-select.readthedocs.io/en/latest/optimizers/stochastic.html  \n",
    "\n",
    "    def __init__(self, function=None, epsilon=0.9, random_state=None, \n",
    "        n_jobs=None, verbose=False):\n",
    "        self.epsilon = epsilon\n",
    "        super(StochasticGreedy, self).__init__(function=function, \n",
    "            random_state=random_state, n_jobs=n_jobs, verbose=verbose)\n",
    "        \n",
    "    '''\n",
    "        function 就是需要次模优化的函数。不过好像至今还没有碰到logdet\n",
    "        epsilon和抽样的子集合R的大小有关，也和最后的总计算量有关。见论文。\n",
    "    '''\n",
    "    \n",
    "    def select(self, X, k, sample_cost=None):\n",
    "        cost = 0.0\n",
    "        if sample_cost is None:\n",
    "            sample_cost = numpy.ones(X.shape[0], dtype='float64')\n",
    "\n",
    "        n = X.shape[0]\n",
    "        subset_size = -numpy.log(self.epsilon) * n / k\n",
    "        subset_size = max(int(subset_size), 1)\n",
    "    \n",
    "    '''\n",
    "        subset_size就是子集的规模，套用论文里的公式。\n",
    "    '''\n",
    "        \n",
    "        \n",
    "        while cost < k:\n",
    "            idxs = self.random_state.choice(self.function.idxs, \n",
    "                replace=False, size=min(subset_size, \n",
    "                    self.function.idxs.shape[0]))\n",
    "\n",
    "            gains = self.function._calculate_gains(X, idxs) / sample_cost[idxs]\n",
    "            idxs_ = numpy.lexsort((numpy.arange(gains.shape[0]), -gains))\n",
    "    '''\n",
    "        多级排序：https://blog.csdn.net/Flag_ing/article/details/124185378\n",
    "        numpy抽样：https://blog.csdn.net/qq_30868235/article/details/80409227\n",
    "    '''\n",
    "            for idx in idxs_:\n",
    "                best_idx = idxs[idx]\n",
    "                if cost + sample_cost[best_idx] <= k:\n",
    "                    break\n",
    "                else:\n",
    "                    return\n",
    "\n",
    "            cost += sample_cost[best_idx]\n",
    "            self.function._select_next(X[best_idx], gains[idx], best_idx)\n",
    "\n",
    "            if self.verbose == True:\n",
    "                self.function.pbar.update(1)"
   ]
  }
 ],
 "metadata": {
  "kernelspec": {
   "display_name": "Python 3 (ipykernel)",
   "language": "python",
   "name": "python3"
  },
  "language_info": {
   "codemirror_mode": {
    "name": "ipython",
    "version": 3
   },
   "file_extension": ".py",
   "mimetype": "text/x-python",
   "name": "python",
   "nbconvert_exporter": "python",
   "pygments_lexer": "ipython3",
   "version": "3.9.7"
  }
 },
 "nbformat": 4,
 "nbformat_minor": 5
}
