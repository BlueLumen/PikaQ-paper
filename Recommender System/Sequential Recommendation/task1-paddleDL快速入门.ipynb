{
 "cells": [
  {
   "cell_type": "markdown",
   "metadata": {},
   "source": [
    "# task1-PaddleDL快速入门"
   ]
  },
  {
   "cell_type": "markdown",
   "metadata": {},
   "source": [
    "## 零之前\n",
    "\n",
    "不足：花费了半天的时间详细研究了这次任务的代码，有三个目标：流程、dataset、model，前两个我已经弄懂，顺带着一些检测指标等。但是model的设计过程，囿于深度学习基础约等于0，导致不能很好的理解。在task2之前，我会先快速补一下paddle深度学习的基础。\n",
    "\n",
    "收获：啃了大佬的代码，啃透了许多，本身就是很大的收获。\n",
    "\n",
    "参考引用：\n",
    "1. 课程项目地址 [https://aistudio.baidu.com/aistudio/projectdetail/4896045](http://)\n",
    "2. 负采样：[https://zhuanlan.zhihu.com/p/387378387](http://)\n",
    "3. Hitrate：[https://zhuanlan.zhihu.com/p/71654654](http://)\n",
    "4. NDCG：[https://zhuanlan.zhihu.com/p/371432647](http://)\n",
    "5. epoch：[https://www.jianshu.com/p/22c50ded4cf7](http://)\n",
    "6. paddle两个API（tensor、squeeze）<br/>\n",
    "[https://www.paddlepaddle.org.cn/documentation/docs/zh/api/paddle/to_tensor_cn.html](http://) <br/>\n",
    "[https://www.paddlepaddle.org.cn/documentation/docs/zh/api/paddle/squeeze_cn.html](http://)\n",
   ]
  },
  {
   "cell_type": "markdown",
   "metadata": {},
   "source": [
    "## 零. 导入库与参数配置"
   ]
  },
  {
   "cell_type": "markdown",
   "metadata": {},
   "source": [
    "基本操作，不需赘述啦。"
   ]
  },
  {
   "cell_type": "code",
   "execution_count": 3,
   "metadata": {
    "execution": {
     "iopub.execute_input": "2022-11-12T06:02:18.048109Z",
     "iopub.status.busy": "2022-11-12T06:02:18.047583Z",
     "iopub.status.idle": "2022-11-12T06:02:20.186580Z",
     "shell.execute_reply": "2022-11-12T06:02:20.185650Z",
     "shell.execute_reply.started": "2022-11-12T06:02:18.048080Z"
    },
    "scrolled": true,
    "tags": []
   },
   "outputs": [
    {
     "name": "stderr",
     "output_type": "stream",
     "text": [
      "/opt/conda/envs/python35-paddle120-env/lib/python3.7/site-packages/matplotlib/__init__.py:107: DeprecationWarning: Using or importing the ABCs from 'collections' instead of from 'collections.abc' is deprecated, and in 3.8 it will stop working\n",
      "  from collections import MutableMapping\n",
      "/opt/conda/envs/python35-paddle120-env/lib/python3.7/site-packages/matplotlib/rcsetup.py:20: DeprecationWarning: Using or importing the ABCs from 'collections' instead of from 'collections.abc' is deprecated, and in 3.8 it will stop working\n",
      "  from collections import Iterable, Mapping\n",
      "/opt/conda/envs/python35-paddle120-env/lib/python3.7/site-packages/matplotlib/colors.py:53: DeprecationWarning: Using or importing the ABCs from 'collections' instead of from 'collections.abc' is deprecated, and in 3.8 it will stop working\n",
      "  from collections import Sized\n"
     ]
    }
   ],
   "source": [
    "import paddle\n",
    "from paddle import nn\n",
    "from paddle.io import DataLoader, Dataset\n",
    "import pandas as pd\n",
    "import numpy as np\n",
    "import copy\n",
    "import os\n",
    "from matplotlib import pyplot as plt\n",
    "from sklearn.metrics import roc_auc_score,log_loss\n",
    "from tqdm import tqdm\n",
    "from collections import defaultdict\n",
    "import math\n",
    "import random\n",
    "import warnings\n",
    "warnings.filterwarnings(\"ignore\")"
   ]
  },
  {
   "cell_type": "markdown",
   "metadata": {},
   "source": [
    "参数配置，以字典的形式，将后面用到的各种参数打包成一个参数字典，后续可以直接config['valid_path']的方式调用。"
   ]
  },
  {
   "cell_type": "code",
   "execution_count": 4,
   "metadata": {
    "execution": {
     "iopub.execute_input": "2022-11-12T06:02:22.483518Z",
     "iopub.status.busy": "2022-11-12T06:02:22.482135Z",
     "iopub.status.idle": "2022-11-12T06:02:22.487858Z",
     "shell.execute_reply": "2022-11-12T06:02:22.487115Z",
     "shell.execute_reply.started": "2022-11-12T06:02:22.483456Z"
    },
    "scrolled": true,
    "tags": []
   },
   "outputs": [],
   "source": [
    "config = {\n",
    "    'train_path':'/home/aistudio/data/data173799/train_enc.csv',\n",
    "    'valid_path':'/home/aistudio/data/data173799/valid_enc.csv',\n",
    "    'test_path':'/home/aistudio/data/data173799/test_enc.csv',\n",
    "    \"debug_mode\" : True,\n",
    "    \"epoch\" : 20,\n",
    "    \"batch\" : 20480,\n",
    "    \"lr\" : 0.001,\n",
    "}"
   ]
  },
  {
   "cell_type": "markdown",
   "metadata": {},
   "source": [
    "## 壹. 定义DataSet\n",
    "\n"
   ]
  },
  {
   "cell_type": "markdown",
   "metadata": {},
   "source": [
    "### 构造样本之前\n",
    "1. 看看数据集的情况。\n",
    "2. 涉及到了map、value_counts()、reset_index和pandas的一些用法，再次复习一下。\n",
    "3. groupby操作\n",
    "\n",
    "对于1，df1 = df时好像出现了浅拷贝深拷贝的问题。一开始我认为df1 = df会为df1重新开辟一个地址空间，但现在看来好像是只是生成了一个变量名，df1还是指向着原来的地址。</br>\n",
    "对于2，df.value_counts()生成的是一个类似于字典的东西，所以可以直接用map来取出对应的值。df['列名'].map(...)</br>\n",
    "对于3，作者使用 df.groupby('user_id')['item_id']以user_id为索引，将涉及到的item_id聚起来，对其使用apply(list)，将item_id转化成列表。用这种操作来实现生成一个项集，正好和大数据分析方法第一次实验使用的方法一样，在后者，是要以时间为单位，将相同时间的蔬菜和肉放进一个列表中。索引不同，但本质一样。"
   ]
  },
  {
   "cell_type": "code",
   "execution_count": 5,
   "metadata": {
    "execution": {
     "iopub.execute_input": "2022-11-12T06:02:25.257550Z",
     "iopub.status.busy": "2022-11-12T06:02:25.256978Z",
     "iopub.status.idle": "2022-11-12T06:02:25.735157Z",
     "shell.execute_reply": "2022-11-12T06:02:25.734086Z",
     "shell.execute_reply.started": "2022-11-12T06:02:25.257515Z"
    },
    "scrolled": true,
    "tags": []
   },
   "outputs": [],
   "source": [
    "# 训练集太大了，一共有900w条数据，这里用valid数据来完成流程\n",
    "df = pd.read_csv(config['valid_path'])\n",
    "df1 = df\n",
    "df1['user_count'] = df1['user_id'].map(df1['user_id'].value_counts())\n",
    "df1 = df1[df1['user_count']>20].reset_index(drop=True)"
   ]
  },
  {
   "cell_type": "code",
   "execution_count": 6,
   "metadata": {
    "execution": {
     "iopub.execute_input": "2022-11-12T06:02:26.929114Z",
     "iopub.status.busy": "2022-11-12T06:02:26.928336Z",
     "iopub.status.idle": "2022-11-12T06:02:26.953579Z",
     "shell.execute_reply": "2022-11-12T06:02:26.952682Z",
     "shell.execute_reply.started": "2022-11-12T06:02:26.929081Z"
    },
    "scrolled": true,
    "tags": []
   },
   "outputs": [
    {
     "name": "stdout",
     "output_type": "stream",
     "text": [
      "   user_id  item_id  timestamp  user_count\n",
      "0   110120      318  851527751          50\n",
      "1   110120      162  851526935          50\n",
      "2   110120      164  851527569          50\n",
      "3   110120      312  851526935          50\n",
      "4   110120      403  851527514          50\n",
      "123214    2550\n",
      "121250    1999\n",
      "113541    1937\n",
      "115469    1797\n",
      "119878    1747\n",
      "          ... \n",
      "115194      21\n",
      "111767      21\n",
      "118010      21\n",
      "117576      21\n",
      "115987      21\n",
      "Name: user_id, Length: 10406, dtype: int64\n"
     ]
    }
   ],
   "source": [
    "df.head()\n",
    "print(df1.head())\n",
    "print(df1['user_id'].value_counts())"
   ]
  },
  {
   "cell_type": "code",
   "execution_count": 7,
   "metadata": {
    "execution": {
     "iopub.execute_input": "2022-11-12T06:02:27.795464Z",
     "iopub.status.busy": "2022-11-12T06:02:27.794912Z",
     "iopub.status.idle": "2022-11-12T06:02:28.649693Z",
     "shell.execute_reply": "2022-11-12T06:02:28.648698Z",
     "shell.execute_reply.started": "2022-11-12T06:02:27.795432Z"
    },
    "scrolled": true,
    "tags": []
   },
   "outputs": [],
   "source": [
    "df = pd.read_csv(config['valid_path'])\n",
    "df['user_count'] = df['user_id'].map(df['user_id'].value_counts())\n",
    "df = df[df['user_count']>20].reset_index(drop=True)\n",
    "pos_dict = df.groupby('user_id')['item_id'].apply(list).to_dict()"
   ]
  },
  {
   "cell_type": "code",
   "execution_count": 8,
   "metadata": {
    "execution": {
     "iopub.execute_input": "2022-11-12T06:02:28.669226Z",
     "iopub.status.busy": "2022-11-12T06:02:28.668860Z",
     "iopub.status.idle": "2022-11-12T06:02:29.225468Z",
     "shell.execute_reply": "2022-11-12T06:02:29.224457Z",
     "shell.execute_reply.started": "2022-11-12T06:02:28.669201Z"
    },
    "scrolled": true,
    "tags": []
   },
   "outputs": [
    {
     "data": {
      "text/plain": [
       "user_id\n",
       "110120    [318, 162, 164, 312, 403, 9, 1164, 198, 12, 29...\n",
       "110121    [196, 161, 294, 1110, 3, 2069, 164, 403, 710, ...\n",
       "110123    [164, 9, 430, 29, 168, 169, 271, 486, 1076, 37...\n",
       "110124    [309, 394, 705, 4, 1297, 403, 9, 712, 11, 12, ...\n",
       "110125    [9, 11, 1281, 427, 1383, 204, 205, 167, 331, 2...\n",
       "                                ...                        \n",
       "123868    [196, 318, 3162, 2, 402, 3, 4, 163, 1298, 5, 4...\n",
       "123869    [196, 4, 726, 306, 1321, 745, 747, 222, 44, 96...\n",
       "123870    [196, 309, 394, 2429, 706, 1354, 4, 310, 1297,...\n",
       "123871    [196, 705, 3, 163, 407, 412, 413, 712, 12, 415...\n",
       "123873    [1297, 1012, 1390, 848, 1020, 1021, 726, 204, ...\n",
       "Name: item_id, Length: 10406, dtype: object"
      ]
     },
     "execution_count": 8,
     "metadata": {},
     "output_type": "execute_result"
    }
   ],
   "source": [
    "df.groupby('user_id')['item_id'].apply(list)"
   ]
  },
  {
   "cell_type": "markdown",
   "metadata": {},
   "source": [
    "### 构造样本\n",
    "\n",
    "1. 构造样本。使用了debug_mode模式，取了小小样本试验一下。\n",
    "2. pos_dict就是前面生成的字典。你个大迷糊。\n",
    "3. 在后面的代码toy中，用一个小示例理清了每行代码的含义。\n"
   ]
  },
  {
   "cell_type": "code",
   "execution_count": 13,
   "metadata": {
    "execution": {
     "iopub.execute_input": "2022-11-12T06:10:32.242601Z",
     "iopub.status.busy": "2022-11-12T06:10:32.242040Z",
     "iopub.status.idle": "2022-11-12T06:10:32.267573Z",
     "shell.execute_reply": "2022-11-12T06:10:32.266725Z",
     "shell.execute_reply.started": "2022-11-12T06:10:32.242569Z"
    },
    "scrolled": true,
    "tags": []
   },
   "outputs": [],
   "source": [
    "'''\n",
    "这里的样本构造逻辑是来自于《Neural Collaborative Filtering》的实验部分的样本构造逻辑\n",
    "'''\n",
    "# 负采样\n",
    "ratio = 3\n",
    "# 构造样本\n",
    "train_user_list = []\n",
    "train_item_list = []\n",
    "train_label_list = []\n",
    "\n",
    "test_user_list = []\n",
    "test_item_list = []\n",
    "test_label_list = []\n",
    "if config['debug_mode']:\n",
    "    user_list = df['user_id'].unique()[:2]\n",
    "else:\n",
    "    user_list = df['user_id'].unique()\n",
    "    \n",
    "item_list = df['item_id'].unique()\n",
    "item_num = df['item_id'].nunique()\n"
   ]
  },
  {
   "cell_type": "code",
   "execution_count": 15,
   "metadata": {
    "execution": {
     "iopub.execute_input": "2022-11-12T06:10:42.611248Z",
     "iopub.status.busy": "2022-11-12T06:10:42.610489Z",
     "iopub.status.idle": "2022-11-12T06:10:42.621906Z",
     "shell.execute_reply": "2022-11-12T06:10:42.621156Z",
     "shell.execute_reply.started": "2022-11-12T06:10:42.611194Z"
    },
    "scrolled": true,
    "tags": []
   },
   "outputs": [
    {
     "data": {
      "text/plain": [
       "array([110120, 110121])"
      ]
     },
     "execution_count": 15,
     "metadata": {},
     "output_type": "execute_result"
    }
   ],
   "source": [
    "df['user_id'].unique()[:2]"
   ]
  },
  {
   "cell_type": "code",
   "execution_count": 16,
   "metadata": {
    "execution": {
     "iopub.execute_input": "2022-11-12T06:10:45.266545Z",
     "iopub.status.busy": "2022-11-12T06:10:45.265350Z",
     "iopub.status.idle": "2022-11-12T06:10:45.271117Z",
     "shell.execute_reply": "2022-11-12T06:10:45.270307Z",
     "shell.execute_reply.started": "2022-11-12T06:10:45.266508Z"
    },
    "scrolled": true,
    "tags": []
   },
   "outputs": [
    {
     "name": "stdout",
     "output_type": "stream",
     "text": [
      "[  318   162   164 ... 14230 14082  5771]\n",
      "13717\n"
     ]
    }
   ],
   "source": [
    "print(item_list)\n",
    "print(len(item_list))"
   ]
  },
  {
   "cell_type": "markdown",
   "metadata": {},
   "source": [
    "### 代码分析——toy示例\n",
    "\n",
    "通过下面这个toy用例，结合一大串print，终于看明白是要干啥了。\n",
    "取user_list为【110120 110121】,\n",
    "```python\n",
    "for user in tqdm(user_list):\n",
    "```\n",
    "使用遍历这个user_list中这两个元素\n",
    "\n",
    "```python\n",
    "for i in range(len(pos_dict[user])-1):\n",
    "    train_user_list.append(user)\n",
    "    train_item_list.append(pos_dict[user][i])\n",
    "```\n",
    "使用len(pos_dict[user])-1:返回每个user对应的项的个数，因此才出现了train_user_list中有49个110120，46个110121。\n",
    "\n",
    "而train_item_list.append(pos_dict[user][i])的作用就是将某个user对应的第i个item放进item列表中。\n",
    "\n",
    "\n"
   ]
  },
  {
   "cell_type": "code",
   "execution_count": 26,
   "metadata": {
    "collapsed": true,
    "execution": {
     "iopub.execute_input": "2022-11-12T06:21:25.655306Z",
     "iopub.status.busy": "2022-11-12T06:21:25.654577Z",
     "iopub.status.idle": "2022-11-12T06:21:25.708530Z",
     "shell.execute_reply": "2022-11-12T06:21:25.707433Z",
     "shell.execute_reply.started": "2022-11-12T06:21:25.655271Z"
    },
    "jupyter": {
     "outputs_hidden": true
    },
    "scrolled": true,
    "tags": []
   },
   "outputs": [
    {
     "name": "stderr",
     "output_type": "stream",
     "text": [
      "100%|██████████| 2/2 [00:00<00:00, 48.15it/s]"
     ]
    },
    {
     "name": "stdout",
     "output_type": "stream",
     "text": [
      "[110120 110121]\n",
      "user is 110120\n",
      "len(pos_dict[user])-1 is 49\n",
      "0\n",
      "0\n",
      "0\n",
      "train_user_list [110120]\n",
      "🦋\n",
      "🦋\n",
      "train_item_list [318]\n",
      "🦋\n",
      "🦋\n",
      "train_label_list [1]\n",
      "🦋\n",
      "🦋\n",
      "1\n",
      "1\n",
      "1\n",
      "train_user_list [110120, 110120]\n",
      "🦋\n",
      "🦋\n",
      "train_item_list [318, 162]\n",
      "🦋\n",
      "🦋\n",
      "train_label_list [1, 1]\n",
      "🦋\n",
      "🦋\n",
      "2\n",
      "2\n",
      "2\n",
      "3\n",
      "3\n",
      "3\n",
      "4\n",
      "4\n",
      "4\n",
      "5\n",
      "5\n",
      "5\n",
      "6\n",
      "6\n",
      "6\n",
      "7\n",
      "7\n",
      "7\n",
      "8\n",
      "8\n",
      "8\n",
      "9\n",
      "9\n",
      "9\n",
      "10\n",
      "10\n",
      "10\n",
      "11\n",
      "11\n",
      "11\n",
      "12\n",
      "12\n",
      "12\n",
      "13\n",
      "13\n",
      "13\n",
      "14\n",
      "14\n",
      "14\n",
      "15\n",
      "15\n",
      "15\n",
      "16\n",
      "16\n",
      "16\n",
      "17\n",
      "17\n",
      "17\n",
      "18\n",
      "18\n",
      "18\n",
      "19\n",
      "19\n",
      "19\n",
      "20\n",
      "20\n",
      "20\n",
      "21\n",
      "21\n",
      "21\n",
      "22\n",
      "22\n",
      "22\n",
      "23\n",
      "23\n",
      "23\n",
      "24\n",
      "24\n",
      "24\n",
      "25\n",
      "25\n",
      "25\n",
      "26\n",
      "26\n",
      "26\n",
      "27\n",
      "27\n",
      "27\n",
      "28\n",
      "28\n",
      "28\n",
      "29\n",
      "29\n",
      "29\n",
      "30\n",
      "30\n",
      "30\n",
      "31\n",
      "31\n",
      "31\n",
      "32\n",
      "32\n",
      "32\n",
      "33\n",
      "33\n",
      "33\n",
      "34\n",
      "34\n",
      "34\n",
      "35\n",
      "35\n",
      "35\n",
      "36\n",
      "36\n",
      "36\n",
      "37\n",
      "37\n",
      "37\n",
      "38\n",
      "38\n",
      "38\n",
      "39\n",
      "39\n",
      "39\n",
      "40\n",
      "40\n",
      "40\n",
      "41\n",
      "41\n",
      "41\n",
      "42\n",
      "42\n",
      "42\n",
      "43\n",
      "43\n",
      "43\n",
      "44\n",
      "44\n",
      "44\n",
      "45\n",
      "45\n",
      "45\n",
      "46\n",
      "46\n",
      "46\n",
      "47\n",
      "47\n",
      "47\n",
      "48\n",
      "48\n",
      "48\n",
      "user is 110121\n",
      "len(pos_dict[user])-1 is 46\n",
      "49\n",
      "49\n",
      "49\n",
      "train_user_list [110120, 110120, 110120, 110120, 110120, 110120, 110120, 110120, 110120, 110120, 110120, 110120, 110120, 110120, 110120, 110120, 110120, 110120, 110120, 110120, 110120, 110120, 110120, 110120, 110120, 110120, 110120, 110120, 110120, 110120, 110120, 110120, 110120, 110120, 110120, 110120, 110120, 110120, 110120, 110120, 110120, 110120, 110120, 110120, 110120, 110120, 110120, 110120, 110120, 110121]\n",
      "🦋\n",
      "🦋\n",
      "train_item_list [318, 162, 164, 312, 403, 9, 1164, 198, 12, 295, 320, 297, 298, 937, 299, 416, 321, 301, 200, 1391, 166, 2140, 421, 718, 728, 422, 324, 425, 16, 325, 305, 427, 3245, 1383, 432, 328, 1130, 439, 1386, 21, 744, 22, 23, 26, 27, 29, 30, 168, 47, 196]\n",
      "🦋\n",
      "🦋\n",
      "train_label_list [1, 1, 1, 1, 1, 1, 1, 1, 1, 1, 1, 1, 1, 1, 1, 1, 1, 1, 1, 1, 1, 1, 1, 1, 1, 1, 1, 1, 1, 1, 1, 1, 1, 1, 1, 1, 1, 1, 1, 1, 1, 1, 1, 1, 1, 1, 1, 1, 1, 1]\n",
      "🦋\n",
      "🦋\n",
      "50\n",
      "50\n",
      "50\n",
      "train_user_list [110120, 110120, 110120, 110120, 110120, 110120, 110120, 110120, 110120, 110120, 110120, 110120, 110120, 110120, 110120, 110120, 110120, 110120, 110120, 110120, 110120, 110120, 110120, 110120, 110120, 110120, 110120, 110120, 110120, 110120, 110120, 110120, 110120, 110120, 110120, 110120, 110120, 110120, 110120, 110120, 110120, 110120, 110120, 110120, 110120, 110120, 110120, 110120, 110120, 110121, 110121]\n",
      "🦋\n",
      "🦋\n",
      "train_item_list [318, 162, 164, 312, 403, 9, 1164, 198, 12, 295, 320, 297, 298, 937, 299, 416, 321, 301, 200, 1391, 166, 2140, 421, 718, 728, 422, 324, 425, 16, 325, 305, 427, 3245, 1383, 432, 328, 1130, 439, 1386, 21, 744, 22, 23, 26, 27, 29, 30, 168, 47, 196, 161]\n",
      "🦋\n",
      "🦋\n",
      "train_label_list [1, 1, 1, 1, 1, 1, 1, 1, 1, 1, 1, 1, 1, 1, 1, 1, 1, 1, 1, 1, 1, 1, 1, 1, 1, 1, 1, 1, 1, 1, 1, 1, 1, 1, 1, 1, 1, 1, 1, 1, 1, 1, 1, 1, 1, 1, 1, 1, 1, 1, 1]\n",
      "🦋\n",
      "🦋\n",
      "51\n",
      "51\n",
      "51\n",
      "52\n",
      "52\n",
      "52\n",
      "53\n",
      "53\n",
      "53\n",
      "54\n",
      "54\n",
      "54\n",
      "55\n",
      "55\n",
      "55\n",
      "56\n",
      "56\n",
      "56\n",
      "57\n",
      "57\n",
      "57\n",
      "58\n",
      "58\n",
      "58\n",
      "59\n",
      "59\n",
      "59\n",
      "60\n",
      "60\n",
      "60\n",
      "61\n",
      "61\n",
      "61\n",
      "62\n",
      "62\n",
      "62\n",
      "63\n",
      "63\n",
      "63\n",
      "64\n",
      "64\n",
      "64\n",
      "65\n",
      "65\n",
      "65\n",
      "66\n",
      "66\n",
      "66\n",
      "67\n",
      "67\n",
      "67\n",
      "68\n",
      "68\n",
      "68\n",
      "69\n",
      "69\n",
      "69\n",
      "70\n",
      "70\n",
      "70\n",
      "71\n",
      "71\n",
      "71\n",
      "72\n",
      "72\n",
      "72\n",
      "73\n",
      "73\n",
      "73\n",
      "74\n",
      "74\n",
      "74\n",
      "75\n",
      "75\n",
      "75\n",
      "76\n",
      "76\n",
      "76\n",
      "77\n",
      "77\n",
      "77\n",
      "78\n",
      "78\n",
      "78\n",
      "79\n",
      "79\n",
      "79\n",
      "80\n",
      "80\n",
      "80\n",
      "81\n",
      "81\n",
      "81\n",
      "82\n",
      "82\n",
      "82\n",
      "83\n",
      "83\n",
      "83\n",
      "84\n",
      "84\n",
      "84\n",
      "85\n",
      "85\n",
      "85\n",
      "86\n",
      "86\n",
      "86\n",
      "87\n",
      "87\n",
      "87\n",
      "88\n",
      "88\n",
      "88\n",
      "89\n",
      "89\n",
      "89\n",
      "90\n",
      "90\n",
      "90\n",
      "91\n",
      "91\n",
      "91\n",
      "92\n",
      "92\n",
      "92\n",
      "93\n",
      "93\n",
      "93\n",
      "94\n",
      "94\n",
      "94\n"
     ]
    },
    {
     "name": "stderr",
     "output_type": "stream",
     "text": [
      "\n"
     ]
    }
   ],
   "source": [
    "# toy示例\r\n",
    "train_user_list = []\r\n",
    "train_item_list = []\r\n",
    "train_label_list = []\r\n",
    "print(user_list)\r\n",
    "for user in tqdm(user_list):\r\n",
    "    cout = 0\r\n",
    "    if(cout<1):\r\n",
    "        print(\"user is\",end=\" \")\r\n",
    "        print(user)\r\n",
    "    print(\"len(pos_dict[user])-1 is\",end=\" \")\r\n",
    "    print(len(pos_dict[user])-1)\r\n",
    "    for i in range(len(pos_dict[user])-1):\r\n",
    "        print(len(train_user_list))\r\n",
    "        print(len(train_item_list))\r\n",
    "        print(len(train_label_list))\r\n",
    "        train_user_list.append(user)\r\n",
    "        if(i<2):\r\n",
    "            print(\"train_user_list\",end=' ')\r\n",
    "            print(train_user_list)\r\n",
    "            print(\"🦋\")\r\n",
    "            print(\"🦋\")\r\n",
    "        train_item_list.append(pos_dict[user][i])\r\n",
    "        if(i<2):\r\n",
    "            print(\"train_item_list\",end=' ')\r\n",
    "            print(train_item_list)\r\n",
    "            print(\"🦋\")\r\n",
    "            print(\"🦋\")\r\n",
    "        train_label_list.append(1)\r\n",
    "        if(i<2):\r\n",
    "            print(\"train_label_list\",end=' ')\r\n",
    "            print(train_label_list)\r\n",
    "            print(\"🦋\")\r\n",
    "            print(\"🦋\")"
   ]
  },
  {
   "cell_type": "markdown",
   "metadata": {},
   "source": [
    "### 代码分析——样本构造\n",
    "\n",
    "```python\n",
    "    #训练集：每个用户负样本数\n",
    "    user_count = len(pos_dict[user])-1 # 训练集 用户行为序列长度\n",
    "    neg_sample_per_user = user_count * ratio\n",
    "```\n",
    "\n",
    "一开始没有弄懂负采样是啥意思，但是后面也渐渐猜到了。即用户和商品出现交互的样本就是正样本，没有交互的就是负样本。可以通过随机生成一些原本不存在的用户—商品的集合作为负样本（label=0）。下面的链接就是相应的解释。\n",
    "[https://zhuanlan.zhihu.com/p/387378387](http://)\n",
    "\n",
    "```python\n",
    "    temp_item_index = random.randint(0, item_num - 1)\n",
    "        # 为了防止 负采样选出来的Item 在用户的正向历史行为序列(pos_dict)当中\n",
    "        while item_list[temp_item_index] in pos_dict[user]:\n",
    "            temp_item_index = random.randint(0, item_num - 1)\n",
    "        train_item_list.append(item_list[temp_item_index])\n",
    "        train_label_list.append(0)\n",
    "```\n",
    "\n",
    "具体的代码例子如上，item_num - 1是商品总数，temp_item_index是商品的索引，所以可以通过随机数来生成一个在总数范围内的索引。然后通过while item_list[temp_item_index] in pos_dict[user]这个while循环来检测一下，这个索引对应的具体商品，有没有出现在该用户的行为序列pos_dict[user]中（这是一个列表，简单的in用法就可以检测咯）。如果在，那么重复生成随机索引，直到不在，退出while循环。最后将label添加为0."
   ]
  },
  {
   "cell_type": "code",
   "execution_count": 27,
   "metadata": {
    "execution": {
     "iopub.execute_input": "2022-11-12T06:48:17.277404Z",
     "iopub.status.busy": "2022-11-12T06:48:17.276869Z",
     "iopub.status.idle": "2022-11-12T06:48:19.380336Z",
     "shell.execute_reply": "2022-11-12T06:48:19.379435Z",
     "shell.execute_reply.started": "2022-11-12T06:48:17.277373Z"
    },
    "scrolled": true,
    "tags": []
   },
   "outputs": [
    {
     "name": "stderr",
     "output_type": "stream",
     "text": [
      "100%|██████████| 100/100 [00:02<00:00, 49.90it/s]\n"
     ]
    }
   ],
   "source": [
    "# 负采样\n",
    "ratio = 3\n",
    "# 构造样本\n",
    "train_user_list = []\n",
    "train_item_list = []\n",
    "train_label_list = []\n",
    "\n",
    "test_user_list = []\n",
    "test_item_list = []\n",
    "test_label_list = []\n",
    "if config['debug_mode']:\n",
    "    user_list = df['user_id'].unique()[:100]\n",
    "else:\n",
    "    user_list = df['user_id'].unique()\n",
    "    \n",
    "item_list = df['item_id'].unique()\n",
    "item_num = df['item_id'].nunique()\n",
    "\n",
    "for user in tqdm(user_list):\n",
    "    # 训练集正样本\n",
    "    for i in range(len(pos_dict[user])-1):\n",
    "        train_user_list.append(user)\n",
    "        train_item_list.append(pos_dict[user][i])\n",
    "        train_label_list.append(1)\n",
    "        \n",
    "    # 测试集正样本\n",
    "    test_user_list.append(user)\n",
    "    test_item_list.append(pos_dict[user][-1])\n",
    "    test_label_list.append(1)\n",
    "    \n",
    "    # 训练集：每个用户负样本数\n",
    "    user_count = len(pos_dict[user])-1 # 训练集 用户行为序列长度\n",
    "    neg_sample_per_user = user_count * ratio\n",
    "\n",
    "    for i in range(neg_sample_per_user):\n",
    "        train_user_list.append(user)\n",
    "        temp_item_index = random.randint(0, item_num - 1)\n",
    "        # 为了防止 负采样选出来的Item 在用户的正向历史行为序列(pos_dict)当中\n",
    "        while item_list[temp_item_index] in pos_dict[user]:\n",
    "            temp_item_index = random.randint(0, item_num - 1)\n",
    "        train_item_list.append(item_list[temp_item_index])\n",
    "        train_label_list.append(0)\n",
    "    \n",
    "    # 测试集合：每个用户负样本数为 100(论文设定)\n",
    "    for i in range(100):\n",
    "        test_user_list.append(user)\n",
    "        temp_item_index = random.randint(0, item_num - 1)\n",
    "        # 为了防止 负采样选出来的Item 在用户的正向历史行为序列(pos_dict)当中\n",
    "        while item_list[temp_item_index] in pos_dict[user]:\n",
    "            temp_item_index = random.randint(0, item_num - 1)\n",
    "        test_item_list.append(item_list[temp_item_index])\n",
    "        test_label_list.append(0)\n",
    "        \n",
    "train_df = pd.DataFrame()\n",
    "train_df['user_id'] = train_user_list\n",
    "train_df['item_id'] = train_item_list\n",
    "train_df['label'] = train_label_list\n",
    "\n",
    "test_df = pd.DataFrame()\n",
    "test_df['user_id'] = test_user_list\n",
    "test_df['item_id'] = test_item_list\n",
    "test_df['label'] = test_label_list"
   ]
  },
  {
   "cell_type": "code",
   "execution_count": 30,
   "metadata": {
    "execution": {
     "iopub.execute_input": "2022-11-12T06:55:53.313180Z",
     "iopub.status.busy": "2022-11-12T06:55:53.312068Z",
     "iopub.status.idle": "2022-11-12T06:55:53.322741Z",
     "shell.execute_reply": "2022-11-12T06:55:53.321906Z",
     "shell.execute_reply.started": "2022-11-12T06:55:53.313136Z"
    },
    "scrolled": true,
    "tags": []
   },
   "outputs": [
    {
     "name": "stdout",
     "output_type": "stream",
     "text": [
      "   user_id  item_id  label\n",
      "0   110120      318      1\n",
      "1   110120      162      1\n",
      "2   110120      164      1\n",
      "3   110120      312      1\n",
      "4   110120      403      1\n",
      "   user_id  item_id  label\n",
      "0   110120      961      1\n",
      "1   110120     5704      0\n",
      "2   110120    12865      0\n",
      "3   110120    13299      0\n",
      "4   110120     7790      0\n"
     ]
    }
   ],
   "source": [
    "print(train_df.head())\r\n",
    "print(test_df.head())"
   ]
  },
  {
   "cell_type": "code",
   "execution_count": 31,
   "metadata": {
    "execution": {
     "iopub.execute_input": "2022-11-12T06:56:07.924658Z",
     "iopub.status.busy": "2022-11-12T06:56:07.924126Z",
     "iopub.status.idle": "2022-11-12T06:56:07.933021Z",
     "shell.execute_reply": "2022-11-12T06:56:07.932220Z",
     "shell.execute_reply.started": "2022-11-12T06:56:07.924628Z"
    },
    "scrolled": true,
    "tags": []
   },
   "outputs": [
    {
     "name": "stdout",
     "output_type": "stream",
     "text": [
      "{'user_id': 123874, 'item_id': 15405}\n"
     ]
    }
   ],
   "source": [
    "vocab_map = {\n",
    "    'user_id':df['user_id'].max()+1,\n",
    "    'item_id':df['item_id'].max()+1\n",
    "}\n",
    "print(vocab_map)"
   ]
  },
  {
   "cell_type": "markdown",
   "metadata": {},
   "source": [
    "### 代码分析——Dataset构造\n",
    "\n",
    "```python\n",
    "paddle.to_tensor(np.array(self.df[col])).squeeze(-1)\n",
    "paddle.to_tensor([self.df['label'].iloc[index]],dtype=\"float32\").squeeze(-1)\n",
    "```\n",
    "\n",
    "1. paddle.to_tensor和squeeze的用法。由于缺少tensor相关知识，先空一下。<br/>\n",
    "[https://www.paddlepaddle.org.cn/documentation/docs/zh/api/paddle/to_tensor_cn.html](http://)<br/>\n",
    "[https://www.paddlepaddle.org.cn/documentation/docs/zh/api/paddle/squeeze_cn.html](http://)\n",
    "\n",
    "2. 它的数据集构造的逻辑就是，封装了一个类，这个数据集类中，成员变量是df、特征名、编码函数。然后又定义了几个函数，即编码函数与getitem函数。\n",
    "3. enc_data()函数返回的是一个字典，字典的值是一个张量。姑且这样叫，因此可以通过enc_data[col][index]来取值。"
   ]
  },
  {
   "cell_type": "code",
   "execution_count": 32,
   "metadata": {
    "execution": {
     "iopub.execute_input": "2022-11-12T07:24:07.689724Z",
     "iopub.status.busy": "2022-11-12T07:24:07.688491Z",
     "iopub.status.idle": "2022-11-12T07:24:07.697004Z",
     "shell.execute_reply": "2022-11-12T07:24:07.696005Z",
     "shell.execute_reply.started": "2022-11-12T07:24:07.689690Z"
    },
    "scrolled": true,
    "tags": []
   },
   "outputs": [],
   "source": [
    "#Dataset构造\n",
    "class BaseDataset(Dataset):\n",
    "    def __init__(self,df):\n",
    "        self.df = df\n",
    "        self.feature_name = ['user_id','item_id']\n",
    "        #数据编码\n",
    "        self.enc_data()\n",
    "\n",
    "    def enc_data(self):\n",
    "        #使用enc_dict对数据进行编码\n",
    "        self.enc_data = defaultdict(dict)\n",
    "        for col in self.feature_name:\n",
    "            self.enc_data[col] = paddle.to_tensor(np.array(self.df[col])).squeeze(-1)\n",
    "            \n",
    "    def __getitem__(self, index):\n",
    "        data = dict()\n",
    "        for col in self.feature_name:\n",
    "            data[col] = self.enc_data[col][index]\n",
    "        if 'label' in self.df.columns:\n",
    "            data['label'] = paddle.to_tensor([self.df['label'].iloc[index]],dtype=\"float32\").squeeze(-1)\n",
    "        return data\n",
    "\n",
    "    def __len__(self):\n",
    "        return len(self.df)"
   ]
  },
  {
   "cell_type": "code",
   "execution_count": 33,
   "metadata": {
    "execution": {
     "iopub.execute_input": "2022-11-12T07:24:30.601295Z",
     "iopub.status.busy": "2022-11-12T07:24:30.600680Z",
     "iopub.status.idle": "2022-11-12T07:24:30.608732Z",
     "shell.execute_reply": "2022-11-12T07:24:30.607584Z",
     "shell.execute_reply.started": "2022-11-12T07:24:30.601258Z"
    },
    "scrolled": true,
    "tags": []
   },
   "outputs": [],
   "source": [
    "train_dataset = BaseDataset(train_df)\n",
    "test_dataset = BaseDataset(test_df)"
   ]
  },
  {
   "cell_type": "code",
   "execution_count": 34,
   "metadata": {
    "execution": {
     "iopub.execute_input": "2022-11-12T07:24:47.334889Z",
     "iopub.status.busy": "2022-11-12T07:24:47.333999Z",
     "iopub.status.idle": "2022-11-12T07:24:47.340966Z",
     "shell.execute_reply": "2022-11-12T07:24:47.340217Z",
     "shell.execute_reply.started": "2022-11-12T07:24:47.334856Z"
    },
    "scrolled": true,
    "tags": []
   },
   "outputs": [
    {
     "data": {
      "text/plain": [
       "{'user_id': Tensor(shape=[1], dtype=int64, place=Place(cpu), stop_gradient=True,\n",
       "        [110120]),\n",
       " 'item_id': Tensor(shape=[1], dtype=int64, place=Place(cpu), stop_gradient=True,\n",
       "        [162]),\n",
       " 'label': Tensor(shape=[], dtype=float32, place=Place(cpu), stop_gradient=True,\n",
       "        1.)}"
      ]
     },
     "execution_count": 34,
     "metadata": {},
     "output_type": "execute_result"
    }
   ],
   "source": [
    "train_dataset.__getitem__(1)"
   ]
  },
  {
   "cell_type": "code",
   "execution_count": 11,
   "metadata": {
    "execution": {
     "iopub.execute_input": "2022-10-29T13:08:17.422871Z",
     "iopub.status.busy": "2022-10-29T13:08:17.422543Z",
     "iopub.status.idle": "2022-10-29T13:08:17.428677Z",
     "shell.execute_reply": "2022-10-29T13:08:17.427855Z",
     "shell.execute_reply.started": "2022-10-29T13:08:17.422847Z"
    },
    "scrolled": true,
    "tags": []
   },
   "outputs": [
    {
     "data": {
      "text/plain": [
       "{'user_id': Tensor(shape=[1], dtype=int64, place=Place(gpu:0), stop_gradient=True,\n",
       "        [110132]),\n",
       " 'item_id': Tensor(shape=[1], dtype=int64, place=Place(gpu:0), stop_gradient=True,\n",
       "        [1305]),\n",
       " 'label': Tensor(shape=[], dtype=float32, place=Place(gpu:0), stop_gradient=True,\n",
       "        0.)}"
      ]
     },
     "execution_count": 11,
     "metadata": {},
     "output_type": "execute_result"
    }
   ],
   "source": [
    "test_dataset.__getitem__(777)"
   ]
  },
  {
   "cell_type": "markdown",
   "metadata": {
    "tags": []
   },
   "source": [
    "## 贰.定义模型\n",
    "\n",
    "* embedding_dim=16,  # 用户，物品的embedding维度，即向量的维度\n",
    "* loss_fun='nn.BCELoss()'  # 选用的损失函数\n",
    "* self.loss_fun = eval(loss_fun)  # self.loss_fun  = paddle.nn.BCELoss()\n",
    "* self.user_emb_layer = nn.Embedding(self.vocab_map['user_id'],self.embedding_dim)  # 模型图中的用户embedding生成层\n",
    "* self.item_emb_layer = nn.Embedding(self.vocab_map['item_id'],self.embedding_dim)  # 模型图中的项目embedding生成层\n",
    "\n",
    "```python\n",
    "\n",
    " #模型结构中的mlp层\n",
    "        self.mlp = nn.Sequential(\n",
    "            nn.Linear(2 * self.embedding_dim, self.embedding_dim),  # 一个全连接层，linear(a,b),a是输入层维度，b是输出层维度\n",
    "            nn.ReLU(),  # 非线性激活函数Relu\n",
    "            nn.BatchNorm1D(self.embedding_dim),\n",
    "            # 批归一化层，可以加快模型的收敛速度和稳定性\n",
    "            nn.Linear(self.embedding_dim, 1),  # 又是一个全连接层，输出维度是1，代表这个全连接层是最后的输出层\n",
    "            nn.Sigmoid()  # sigmod激活函数，把全连接层的结果压缩到（0,1）区间之内，得出一个概率值\n",
    "        )\n",
    "```\n",
    "\n",
    "总之需要去看基础的神经网络和深度学习的网课啦！"
   ]
  },
  {
   "cell_type": "markdown",
   "metadata": {},
   "source": [
    "![](https://ai-studio-static-online.cdn.bcebos.com/b8cad0a5603743799da5b84d9b685e8f905b33284d2a4f199546f58e3339ad2c)\n"
   ]
  },
  {
   "cell_type": "code",
   "execution_count": 35,
   "metadata": {
    "execution": {
     "iopub.execute_input": "2022-11-12T07:53:58.854203Z",
     "iopub.status.busy": "2022-11-12T07:53:58.852861Z",
     "iopub.status.idle": "2022-11-12T07:53:58.863399Z",
     "shell.execute_reply": "2022-11-12T07:53:58.862453Z",
     "shell.execute_reply.started": "2022-11-12T07:53:58.854165Z"
    },
    "scrolled": true,
    "tags": []
   },
   "outputs": [],
   "source": [
    "class NCF(paddle.nn.Layer):\n",
    "    def __init__(self,\n",
    "                embedding_dim = 16,\n",
    "                vocab_map = None,\n",
    "                loss_fun = 'nn.BCELoss()'):\n",
    "        super(NCF, self).__init__()\n",
    "        self.embedding_dim = embedding_dim\n",
    "        self.vocab_map = vocab_map\n",
    "        self.loss_fun = eval(loss_fun) # self.loss_fun  = paddle.nn.BCELoss()\n",
    "        \n",
    "        self.user_emb_layer = nn.Embedding(self.vocab_map['user_id'],\n",
    "                                          self.embedding_dim)\n",
    "        self.item_emb_layer = nn.Embedding(self.vocab_map['item_id'],\n",
    "                                          self.embedding_dim)\n",
    "        \n",
    "        self.mlp = nn.Sequential(\n",
    "            nn.Linear(2*self.embedding_dim,self.embedding_dim),\n",
    "            nn.ReLU(),\n",
    "            nn.BatchNorm1D(self.embedding_dim),\n",
    "            nn.Linear(self.embedding_dim,1),\n",
    "            nn.Sigmoid()\n",
    "        )\n",
    "        \n",
    "    def forward(self,data):\n",
    "        user_emb = self.user_emb_layer(data['user_id']) # [batch,emb]\n",
    "        item_emb = self.item_emb_layer(data['item_id']) # [batch,emb]\n",
    "        mlp_input = paddle.concat([user_emb, item_emb],axis=-1).squeeze(1)\n",
    "        y_pred = self.mlp(mlp_input)\n",
    "        if 'label' in data.keys():\n",
    "            loss = self.loss_fun(y_pred.squeeze(),data['label'])\n",
    "            output_dict = {'pred':y_pred,'loss':loss}\n",
    "        else:\n",
    "            output_dict = {'pred':y_pred}\n",
    "        return output_dict"
   ]
  },
  {
   "cell_type": "markdown",
   "metadata": {},
   "source": [
    "## 叁. Train Pipeline/Valid Pipeline\n",
    "\n",
    "法力不够，看不了。"
   ]
  },
  {
   "cell_type": "code",
   "execution_count": 36,
   "metadata": {
    "execution": {
     "iopub.execute_input": "2022-11-12T07:55:46.230513Z",
     "iopub.status.busy": "2022-11-12T07:55:46.229933Z",
     "iopub.status.idle": "2022-11-12T07:55:46.243015Z",
     "shell.execute_reply": "2022-11-12T07:55:46.242062Z",
     "shell.execute_reply.started": "2022-11-12T07:55:46.230477Z"
    },
    "scrolled": true,
    "tags": []
   },
   "outputs": [],
   "source": [
    "#训练模型，验证模型\n",
    "def train_model(model, train_loader, optimizer, metric_list=['roc_auc_score','log_loss']):\n",
    "    model.train()\n",
    "    pred_list = []\n",
    "    label_list = []\n",
    "    pbar = tqdm(train_loader)\n",
    "    for data in pbar:\n",
    "\n",
    "        output = model(data)\n",
    "        pred = output['pred']\n",
    "        loss = output['loss']\n",
    "\n",
    "        loss.backward()\n",
    "        optimizer.step()\n",
    "        optimizer.clear_grad()\n",
    "\n",
    "        pred_list.extend(pred.squeeze(-1).cpu().detach().numpy())\n",
    "        label_list.extend(data['label'].squeeze(-1).cpu().detach().numpy())\n",
    "        pbar.set_description(\"Loss {}\".format(loss.numpy()[0]))\n",
    "\n",
    "    res_dict = dict()\n",
    "    for metric in metric_list:\n",
    "        if metric =='log_loss':\n",
    "            res_dict[metric] = log_loss(label_list,pred_list, eps=1e-7)\n",
    "        else:\n",
    "            res_dict[metric] = eval(metric)(label_list,pred_list)\n",
    "\n",
    "    return res_dict\n",
    "\n",
    "def valid_model(model, valid_loader, metric_list=['roc_auc_score','log_loss']):\n",
    "    model.eval()\n",
    "    pred_list = []\n",
    "    label_list = []\n",
    "\n",
    "    for data in (valid_loader):\n",
    "\n",
    "        output = model(data)\n",
    "        pred = output['pred']\n",
    "\n",
    "        pred_list.extend(pred.squeeze(-1).cpu().detach().numpy())\n",
    "        label_list.extend(data['label'].squeeze(-1).cpu().detach().numpy())\n",
    "\n",
    "    res_dict = dict()\n",
    "    for metric in metric_list:\n",
    "        if metric =='log_loss':\n",
    "            res_dict[metric] = log_loss(label_list,pred_list, eps=1e-7)\n",
    "        else:\n",
    "            res_dict[metric] = eval(metric)(label_list,pred_list)\n",
    "\n",
    "    return res_dict\n",
    "\n",
    "def test_model(model, test_loader):\n",
    "    model.eval()\n",
    "    pred_list = []\n",
    "\n",
    "    for data in tqdm(test_loader):\n",
    "\n",
    "        output = model(data)\n",
    "        pred = output['pred']\n",
    "        pred_list.extend(pred.squeeze().cpu().detach().numpy())\n",
    "\n",
    "    return np.array(pred_list)"
   ]
  },
  {
   "cell_type": "code",
   "execution_count": 37,
   "metadata": {
    "execution": {
     "iopub.execute_input": "2022-11-12T07:55:49.010903Z",
     "iopub.status.busy": "2022-11-12T07:55:49.009989Z",
     "iopub.status.idle": "2022-11-12T07:55:49.017368Z",
     "shell.execute_reply": "2022-11-12T07:55:49.016320Z",
     "shell.execute_reply.started": "2022-11-12T07:55:49.010857Z"
    },
    "scrolled": true,
    "tags": []
   },
   "outputs": [],
   "source": [
    "#dataloader\n",
    "train_loader = DataLoader(train_dataset,batch_size=config['batch'],shuffle=True,num_workers=0)\n",
    "test_loader = DataLoader(test_dataset,batch_size=config['batch'],shuffle=False,num_workers=0)"
   ]
  },
  {
   "cell_type": "code",
   "execution_count": 38,
   "metadata": {
    "collapsed": true,
    "execution": {
     "iopub.execute_input": "2022-11-12T07:55:56.753187Z",
     "iopub.status.busy": "2022-11-12T07:55:56.752628Z",
     "iopub.status.idle": "2022-11-12T07:58:37.091320Z",
     "shell.execute_reply": "2022-11-12T07:58:37.090214Z",
     "shell.execute_reply.started": "2022-11-12T07:55:56.753154Z"
    },
    "jupyter": {
     "outputs_hidden": true
    },
    "scrolled": true,
    "tags": []
   },
   "outputs": [
    {
     "name": "stderr",
     "output_type": "stream",
     "text": [
      "Loss 0.6445654630661011: 100%|██████████| 3/3 [00:08<00:00,  3.08s/it]\n",
      "  0%|          | 0/3 [00:00<?, ?it/s]"
     ]
    },
    {
     "name": "stdout",
     "output_type": "stream",
     "text": [
      "Train Metric:\n",
      "{'roc_auc_score': 0.5956322200534399, 'log_loss': 0.7764055680306334}\n"
     ]
    },
    {
     "name": "stderr",
     "output_type": "stream",
     "text": [
      "Loss 0.4578486979007721: 100%|██████████| 3/3 [00:07<00:00,  2.77s/it] \n",
      "  0%|          | 0/3 [00:00<?, ?it/s]"
     ]
    },
    {
     "name": "stdout",
     "output_type": "stream",
     "text": [
      "Train Metric:\n",
      "{'roc_auc_score': 0.9209704732600081, 'log_loss': 0.48565080068390337}\n"
     ]
    },
    {
     "name": "stderr",
     "output_type": "stream",
     "text": [
      "Loss 0.39265966415405273: 100%|██████████| 3/3 [00:09<00:00,  3.26s/it]\n",
      "  0%|          | 0/3 [00:00<?, ?it/s]"
     ]
    },
    {
     "name": "stdout",
     "output_type": "stream",
     "text": [
      "Train Metric:\n",
      "{'roc_auc_score': 0.9566414203514378, 'log_loss': 0.4015223447146329}\n"
     ]
    },
    {
     "name": "stderr",
     "output_type": "stream",
     "text": [
      "Loss 0.36113324761390686: 100%|██████████| 3/3 [00:09<00:00,  3.27s/it]\n",
      "  0%|          | 0/3 [00:00<?, ?it/s]"
     ]
    },
    {
     "name": "stdout",
     "output_type": "stream",
     "text": [
      "Train Metric:\n",
      "{'roc_auc_score': 0.9635867231116522, 'log_loss': 0.36300493080834073}\n"
     ]
    },
    {
     "name": "stderr",
     "output_type": "stream",
     "text": [
      "Loss 0.32351335883140564: 100%|██████████| 3/3 [00:07<00:00,  2.81s/it]\n",
      "  0%|          | 0/3 [00:00<?, ?it/s]"
     ]
    },
    {
     "name": "stdout",
     "output_type": "stream",
     "text": [
      "Train Metric:\n",
      "{'roc_auc_score': 0.9678031481348464, 'log_loss': 0.33532380561750375}\n"
     ]
    },
    {
     "name": "stderr",
     "output_type": "stream",
     "text": [
      "Loss 0.3086852431297302: 100%|██████████| 3/3 [00:07<00:00,  2.66s/it]\n",
      "  0%|          | 0/3 [00:00<?, ?it/s]"
     ]
    },
    {
     "name": "stdout",
     "output_type": "stream",
     "text": [
      "Train Metric:\n",
      "{'roc_auc_score': 0.9716568821795011, 'log_loss': 0.3112339680960649}\n"
     ]
    },
    {
     "name": "stderr",
     "output_type": "stream",
     "text": [
      "Loss 0.28741005063056946: 100%|██████████| 3/3 [00:08<00:00,  2.77s/it]\n",
      "  0%|          | 0/3 [00:00<?, ?it/s]"
     ]
    },
    {
     "name": "stdout",
     "output_type": "stream",
     "text": [
      "Train Metric:\n",
      "{'roc_auc_score': 0.9752072527522373, 'log_loss': 0.29045088562919374}\n"
     ]
    },
    {
     "name": "stderr",
     "output_type": "stream",
     "text": [
      "Loss 0.2593395411968231: 100%|██████████| 3/3 [00:07<00:00,  2.62s/it] \n",
      "  0%|          | 0/3 [00:00<?, ?it/s]"
     ]
    },
    {
     "name": "stdout",
     "output_type": "stream",
     "text": [
      "Train Metric:\n",
      "{'roc_auc_score': 0.9786359121265196, 'log_loss': 0.2709494353239813}\n"
     ]
    },
    {
     "name": "stderr",
     "output_type": "stream",
     "text": [
      "Loss 0.2476986199617386: 100%|██████████| 3/3 [00:07<00:00,  2.79s/it] \n",
      "  0%|          | 0/3 [00:00<?, ?it/s]"
     ]
    },
    {
     "name": "stdout",
     "output_type": "stream",
     "text": [
      "Train Metric:\n",
      "{'roc_auc_score': 0.9816543178451228, 'log_loss': 0.25284373729381376}\n"
     ]
    },
    {
     "name": "stderr",
     "output_type": "stream",
     "text": [
      "Loss 0.22943717241287231: 100%|██████████| 3/3 [00:07<00:00,  2.65s/it]\n",
      "  0%|          | 0/3 [00:00<?, ?it/s]"
     ]
    },
    {
     "name": "stdout",
     "output_type": "stream",
     "text": [
      "Train Metric:\n",
      "{'roc_auc_score': 0.984255411222299, 'log_loss': 0.2355733395692844}\n"
     ]
    },
    {
     "name": "stderr",
     "output_type": "stream",
     "text": [
      "Loss 0.20718684792518616: 100%|██████████| 3/3 [00:07<00:00,  2.62s/it]\n",
      "  0%|          | 0/3 [00:00<?, ?it/s]"
     ]
    },
    {
     "name": "stdout",
     "output_type": "stream",
     "text": [
      "Train Metric:\n",
      "{'roc_auc_score': 0.9865665357811901, 'log_loss': 0.21938627020424334}\n"
     ]
    },
    {
     "name": "stderr",
     "output_type": "stream",
     "text": [
      "Loss 0.19609542191028595: 100%|██████████| 3/3 [00:07<00:00,  2.68s/it]\n",
      "  0%|          | 0/3 [00:00<?, ?it/s]"
     ]
    },
    {
     "name": "stdout",
     "output_type": "stream",
     "text": [
      "Train Metric:\n",
      "{'roc_auc_score': 0.98857991117789, 'log_loss': 0.20420685738983202}\n"
     ]
    },
    {
     "name": "stderr",
     "output_type": "stream",
     "text": [
      "Loss 0.18313518166542053: 100%|██████████| 3/3 [00:07<00:00,  2.58s/it]\n",
      "  0%|          | 0/3 [00:00<?, ?it/s]"
     ]
    },
    {
     "name": "stdout",
     "output_type": "stream",
     "text": [
      "Train Metric:\n",
      "{'roc_auc_score': 0.9902987525531519, 'log_loss': 0.18997013299602436}\n"
     ]
    },
    {
     "name": "stderr",
     "output_type": "stream",
     "text": [
      "Loss 0.17974317073822021: 100%|██████████| 3/3 [00:07<00:00,  2.57s/it]\n",
      "  0%|          | 0/3 [00:00<?, ?it/s]"
     ]
    },
    {
     "name": "stdout",
     "output_type": "stream",
     "text": [
      "Train Metric:\n",
      "{'roc_auc_score': 0.9917801323643141, 'log_loss': 0.1765796060336325}\n"
     ]
    },
    {
     "name": "stderr",
     "output_type": "stream",
     "text": [
      "Loss 0.1679086536169052: 100%|██████████| 3/3 [00:07<00:00,  2.54s/it] \n",
      "  0%|          | 0/3 [00:00<?, ?it/s]"
     ]
    },
    {
     "name": "stdout",
     "output_type": "stream",
     "text": [
      "Train Metric:\n",
      "{'roc_auc_score': 0.9930991496868291, 'log_loss': 0.16384679008045064}\n"
     ]
    },
    {
     "name": "stderr",
     "output_type": "stream",
     "text": [
      "Loss 0.14012491703033447: 100%|██████████| 3/3 [00:07<00:00,  2.52s/it]\n",
      "  0%|          | 0/3 [00:00<?, ?it/s]"
     ]
    },
    {
     "name": "stdout",
     "output_type": "stream",
     "text": [
      "Train Metric:\n",
      "{'roc_auc_score': 0.9941912166453545, 'log_loss': 0.15231786864677932}\n"
     ]
    },
    {
     "name": "stderr",
     "output_type": "stream",
     "text": [
      "Loss 0.13776549696922302: 100%|██████████| 3/3 [00:07<00:00,  2.55s/it]\n",
      "  0%|          | 0/3 [00:00<?, ?it/s]"
     ]
    },
    {
     "name": "stdout",
     "output_type": "stream",
     "text": [
      "Train Metric:\n",
      "{'roc_auc_score': 0.9951950537409929, 'log_loss': 0.14117749264331905}\n"
     ]
    },
    {
     "name": "stderr",
     "output_type": "stream",
     "text": [
      "Loss 0.14418238401412964: 100%|██████████| 3/3 [00:07<00:00,  2.61s/it]\n",
      "  0%|          | 0/3 [00:00<?, ?it/s]"
     ]
    },
    {
     "name": "stdout",
     "output_type": "stream",
     "text": [
      "Train Metric:\n",
      "{'roc_auc_score': 0.9959979307633872, 'log_loss': 0.1308815862668313}\n"
     ]
    },
    {
     "name": "stderr",
     "output_type": "stream",
     "text": [
      "Loss 0.11929336190223694: 100%|██████████| 3/3 [00:07<00:00,  2.73s/it]\n",
      "  0%|          | 0/3 [00:00<?, ?it/s]"
     ]
    },
    {
     "name": "stdout",
     "output_type": "stream",
     "text": [
      "Train Metric:\n",
      "{'roc_auc_score': 0.9966424753499641, 'log_loss': 0.12136024067703635}\n"
     ]
    },
    {
     "name": "stderr",
     "output_type": "stream",
     "text": [
      "Loss 0.12897339463233948: 100%|██████████| 3/3 [00:07<00:00,  2.67s/it]"
     ]
    },
    {
     "name": "stdout",
     "output_type": "stream",
     "text": [
      "Train Metric:\n",
      "{'roc_auc_score': 0.997179712229558, 'log_loss': 0.11263002579465574}\n"
     ]
    },
    {
     "name": "stderr",
     "output_type": "stream",
     "text": [
      "\n"
     ]
    }
   ],
   "source": [
    "model = NCF(embedding_dim=64,vocab_map=vocab_map)\n",
    "optimizer = paddle.optimizer.Adam(parameters=model.parameters(), learning_rate=config['lr'])\n",
    "train_metric_list = []\n",
    "#模型训练流程\n",
    "for i in range(config['epoch']):\n",
    "    #模型训练\n",
    "    train_metirc = train_model(model,train_loader,optimizer=optimizer)\n",
    "    train_metric_list.append(train_metirc)\n",
    "\n",
    "    print(\"Train Metric:\")\n",
    "    print(train_metirc)"
   ]
  },
  {
   "cell_type": "markdown",
   "metadata": {},
   "source": [
    "## 肆. 指标计算"
   ]
  },
  {
   "cell_type": "code",
   "execution_count": 41,
   "metadata": {
    "execution": {
     "iopub.execute_input": "2022-11-12T08:14:16.404610Z",
     "iopub.status.busy": "2022-11-12T08:14:16.402940Z",
     "iopub.status.idle": "2022-11-12T08:14:17.927511Z",
     "shell.execute_reply": "2022-11-12T08:14:17.926394Z",
     "shell.execute_reply.started": "2022-11-12T08:14:16.404540Z"
    },
    "scrolled": true,
    "tags": []
   },
   "outputs": [
    {
     "name": "stderr",
     "output_type": "stream",
     "text": [
      "100%|██████████| 1/1 [00:01<00:00,  1.48s/it]\n"
     ]
    },
    {
     "data": {
      "text/html": [
       "<div>\n",
       "<style scoped>\n",
       "    .dataframe tbody tr th:only-of-type {\n",
       "        vertical-align: middle;\n",
       "    }\n",
       "\n",
       "    .dataframe tbody tr th {\n",
       "        vertical-align: top;\n",
       "    }\n",
       "\n",
       "    .dataframe thead th {\n",
       "        text-align: right;\n",
       "    }\n",
       "</style>\n",
       "<table border=\"1\" class=\"dataframe\">\n",
       "  <thead>\n",
       "    <tr style=\"text-align: right;\">\n",
       "      <th></th>\n",
       "      <th>user_id</th>\n",
       "      <th>item_id</th>\n",
       "      <th>label</th>\n",
       "      <th>y_pre</th>\n",
       "      <th>ranking</th>\n",
       "    </tr>\n",
       "  </thead>\n",
       "  <tbody>\n",
       "    <tr>\n",
       "      <th>87</th>\n",
       "      <td>110120</td>\n",
       "      <td>1225</td>\n",
       "      <td>0</td>\n",
       "      <td>0.553318</td>\n",
       "      <td>1.0</td>\n",
       "    </tr>\n",
       "    <tr>\n",
       "      <th>95</th>\n",
       "      <td>110120</td>\n",
       "      <td>3706</td>\n",
       "      <td>0</td>\n",
       "      <td>0.511015</td>\n",
       "      <td>2.0</td>\n",
       "    </tr>\n",
       "    <tr>\n",
       "      <th>100</th>\n",
       "      <td>110120</td>\n",
       "      <td>3199</td>\n",
       "      <td>0</td>\n",
       "      <td>0.496527</td>\n",
       "      <td>3.0</td>\n",
       "    </tr>\n",
       "    <tr>\n",
       "      <th>15</th>\n",
       "      <td>110120</td>\n",
       "      <td>627</td>\n",
       "      <td>0</td>\n",
       "      <td>0.485367</td>\n",
       "      <td>4.0</td>\n",
       "    </tr>\n",
       "    <tr>\n",
       "      <th>81</th>\n",
       "      <td>110120</td>\n",
       "      <td>8472</td>\n",
       "      <td>0</td>\n",
       "      <td>0.470875</td>\n",
       "      <td>5.0</td>\n",
       "    </tr>\n",
       "    <tr>\n",
       "      <th>...</th>\n",
       "      <td>...</td>\n",
       "      <td>...</td>\n",
       "      <td>...</td>\n",
       "      <td>...</td>\n",
       "      <td>...</td>\n",
       "    </tr>\n",
       "    <tr>\n",
       "      <th>10023</th>\n",
       "      <td>110247</td>\n",
       "      <td>2779</td>\n",
       "      <td>0</td>\n",
       "      <td>0.200255</td>\n",
       "      <td>97.0</td>\n",
       "    </tr>\n",
       "    <tr>\n",
       "      <th>10045</th>\n",
       "      <td>110247</td>\n",
       "      <td>9890</td>\n",
       "      <td>0</td>\n",
       "      <td>0.194671</td>\n",
       "      <td>98.0</td>\n",
       "    </tr>\n",
       "    <tr>\n",
       "      <th>10054</th>\n",
       "      <td>110247</td>\n",
       "      <td>4102</td>\n",
       "      <td>0</td>\n",
       "      <td>0.183490</td>\n",
       "      <td>99.0</td>\n",
       "    </tr>\n",
       "    <tr>\n",
       "      <th>10032</th>\n",
       "      <td>110247</td>\n",
       "      <td>6390</td>\n",
       "      <td>0</td>\n",
       "      <td>0.182171</td>\n",
       "      <td>100.0</td>\n",
       "    </tr>\n",
       "    <tr>\n",
       "      <th>10021</th>\n",
       "      <td>110247</td>\n",
       "      <td>8842</td>\n",
       "      <td>0</td>\n",
       "      <td>0.180815</td>\n",
       "      <td>101.0</td>\n",
       "    </tr>\n",
       "  </tbody>\n",
       "</table>\n",
       "<p>10100 rows × 5 columns</p>\n",
       "</div>"
      ],
      "text/plain": [
       "       user_id  item_id  label     y_pre  ranking\n",
       "87      110120     1225      0  0.553318      1.0\n",
       "95      110120     3706      0  0.511015      2.0\n",
       "100     110120     3199      0  0.496527      3.0\n",
       "15      110120      627      0  0.485367      4.0\n",
       "81      110120     8472      0  0.470875      5.0\n",
       "...        ...      ...    ...       ...      ...\n",
       "10023   110247     2779      0  0.200255     97.0\n",
       "10045   110247     9890      0  0.194671     98.0\n",
       "10054   110247     4102      0  0.183490     99.0\n",
       "10032   110247     6390      0  0.182171    100.0\n",
       "10021   110247     8842      0  0.180815    101.0\n",
       "\n",
       "[10100 rows x 5 columns]"
      ]
     },
     "execution_count": 41,
     "metadata": {},
     "output_type": "execute_result"
    }
   ],
   "source": [
    "# 计算指标\n",
    "y_pre = test_model(model,test_loader)\n",
    "test_df['y_pre'] = y_pre\n",
    "test_df['ranking'] = test_df.groupby(['user_id'])['y_pre'].rank(method='first', ascending=False)\n",
    "test_df = test_df.sort_values(by=['user_id','ranking'],ascending=True)\n",
    "test_df"
   ]
  },
  {
   "cell_type": "markdown",
   "metadata": {},
   "source": [
    "##  Hit-rate\n",
    "\n",
    "测试集中的每个用户的前k个的值除以总数。虽然user_num只有100，但是每一个用户对应着多个商品哦。\n",
    "[https://zhuanlan.zhihu.com/p/71654654](http://)"
   ]
  },
  {
   "cell_type": "code",
   "execution_count": 42,
   "metadata": {
    "execution": {
     "iopub.execute_input": "2022-11-12T08:14:24.483669Z",
     "iopub.status.busy": "2022-11-12T08:14:24.482403Z",
     "iopub.status.idle": "2022-11-12T08:14:24.488454Z",
     "shell.execute_reply": "2022-11-12T08:14:24.487540Z",
     "shell.execute_reply.started": "2022-11-12T08:14:24.483628Z"
    },
    "scrolled": true,
    "tags": []
   },
   "outputs": [],
   "source": [
    "def hitrate(test_df,k=20):\n",
    "    user_num = test_df['user_id'].nunique()\n",
    "    test_gd_df = test_df[test_df['ranking']<=k].reset_index(drop=True)\n",
    "    print(user_num)\n",
    "    print(test_gd_df)\n",
    "    return test_gd_df['label'].sum() / user_num"
   ]
  },
  {
   "cell_type": "code",
   "execution_count": 43,
   "metadata": {
    "execution": {
     "iopub.execute_input": "2022-11-12T08:14:29.246015Z",
     "iopub.status.busy": "2022-11-12T08:14:29.245445Z",
     "iopub.status.idle": "2022-11-12T08:14:29.258854Z",
     "shell.execute_reply": "2022-11-12T08:14:29.258090Z",
     "shell.execute_reply.started": "2022-11-12T08:14:29.245984Z"
    },
    "scrolled": true,
    "tags": []
   },
   "outputs": [
    {
     "name": "stdout",
     "output_type": "stream",
     "text": [
      "100\n",
      "     user_id  item_id  label     y_pre  ranking\n",
      "0     110120     1225      0  0.553318      1.0\n",
      "1     110120     3706      0  0.511015      2.0\n",
      "2     110120     3199      0  0.496527      3.0\n",
      "3     110120      627      0  0.485367      4.0\n",
      "4     110120     8472      0  0.470875      5.0\n",
      "..       ...      ...    ...       ...      ...\n",
      "495   110247      566      0  0.955427      1.0\n",
      "496   110247     8958      0  0.838915      2.0\n",
      "497   110247      234      0  0.627208      3.0\n",
      "498   110247        2      0  0.541970      4.0\n",
      "499   110247      721      0  0.504837      5.0\n",
      "\n",
      "[500 rows x 5 columns]\n"
     ]
    },
    {
     "data": {
      "text/plain": [
       "0.34"
      ]
     },
     "execution_count": 43,
     "metadata": {},
     "output_type": "execute_result"
    }
   ],
   "source": [
    "hitrate(test_df,k=5)"
   ]
  },
  {
   "cell_type": "markdown",
   "metadata": {},
   "source": [
    "## NDCG\n",
    "\n",
    "用来评估排序结果。\n",
    "\n",
    "G-CG-DCG-NDCG一层层理解NDCG：[https://zhuanlan.zhihu.com/p/371432647](http://)"
   ]
  },
  {
   "cell_type": "code",
   "execution_count": 44,
   "metadata": {
    "execution": {
     "iopub.execute_input": "2022-11-12T08:18:38.184015Z",
     "iopub.status.busy": "2022-11-12T08:18:38.183357Z",
     "iopub.status.idle": "2022-11-12T08:18:38.190441Z",
     "shell.execute_reply": "2022-11-12T08:18:38.189200Z",
     "shell.execute_reply.started": "2022-11-12T08:18:38.183982Z"
    },
    "scrolled": true,
    "tags": []
   },
   "outputs": [],
   "source": [
    "def ndcg(test_df,k=20):\n",
    "    '''\n",
    "    idcg@k 一定为1\n",
    "    dcg@k 1/log_2(ranking+1) -> log(2)/log(ranking+1)\n",
    "    '''\n",
    "    user_num = test_df['user_id'].nunique()\n",
    "    test_gd_df = test_df[test_df['ranking']<=k].reset_index(drop=True)\n",
    "    \n",
    "    test_gd_df = test_gd_df[test_gd_df['label']==1].reset_index(drop=True)\n",
    "    test_gd_df['ndcg'] = math.log(2) / np.log(test_gd_df['ranking']+1)\n",
    "    print(test_gd_df.head())\n",
    "    return test_gd_df['ndcg'].sum() / user_num"
   ]
  },
  {
   "cell_type": "code",
   "execution_count": 45,
   "metadata": {
    "execution": {
     "iopub.execute_input": "2022-11-12T08:18:41.432904Z",
     "iopub.status.busy": "2022-11-12T08:18:41.432112Z",
     "iopub.status.idle": "2022-11-12T08:18:41.446843Z",
     "shell.execute_reply": "2022-11-12T08:18:41.445948Z",
     "shell.execute_reply.started": "2022-11-12T08:18:41.432869Z"
    },
    "scrolled": true,
    "tags": []
   },
   "outputs": [
    {
     "name": "stdout",
     "output_type": "stream",
     "text": [
      "   user_id  item_id  label     y_pre  ranking      ndcg\n",
      "0   110121      307      1  0.480535      4.0  0.430677\n",
      "1   110125      128      1  0.430634      4.0  0.430677\n",
      "2   110126      918      1  0.487229      4.0  0.430677\n",
      "3   110128     1246      1  0.510694      4.0  0.430677\n",
      "4   110133     1395      1  0.640738      4.0  0.430677\n"
     ]
    },
    {
     "data": {
      "text/plain": [
       "0.20327620920327638"
      ]
     },
     "execution_count": 45,
     "metadata": {},
     "output_type": "execute_result"
    }
   ],
   "source": [
    "ndcg(test_df,k=5)"
   ]
  },
  {
   "cell_type": "markdown",
   "metadata": {},
   "source": [
    "## 伍. 训练过程可视化\n",
    "\n",
    "搜了一下epoch，看来果然还是要掌握以下深度学习的基础。回头看一下南瓜书的网课叭。https://www.jianshu.com/p/22c50ded4cf7"
   ]
  },
  {
   "cell_type": "code",
   "execution_count": 48,
   "metadata": {
    "execution": {
     "iopub.execute_input": "2022-11-12T09:15:43.465515Z",
     "iopub.status.busy": "2022-11-12T09:15:43.464518Z",
     "iopub.status.idle": "2022-11-12T09:15:43.471740Z",
     "shell.execute_reply": "2022-11-12T09:15:43.470842Z",
     "shell.execute_reply.started": "2022-11-12T09:15:43.465473Z"
    },
    "scrolled": true,
    "tags": []
   },
   "outputs": [],
   "source": [
    "def plot_metric(metric_dict_list, metric_name):\n",
    "    epoch_list = [x for x in range(1,1+len(metric_dict_list))]\n",
    "\n",
    "    print(\"epoch_list is\",end=\" \")\n",
    "    print(epoch_list)\n",
    "\n",
    "    metric_list = [metric_dict_list[i][metric_name] for i in range(len(metric_dict_list))]\n",
    "\n",
    "    print(\"metric_dict_list[2][metric_name] is\",end=\" \")\n",
    "    print(metric_dict_list[2][metric_name])\n",
    "\n",
    "    print(\"metric_list is\",end=\" \")\n",
    "    print(metric_list)\n",
    "    plt.figure(dpi=100)\n",
    "    plt.plot(epoch_list,metric_list)\n",
    "    plt.xlabel('Epoch')\n",
    "    plt.ylabel(metric_name)\n",
    "    plt.title('Train Metric')\n",
    "    plt.show()"
   ]
  },
  {
   "cell_type": "code",
   "execution_count": 49,
   "metadata": {
    "execution": {
     "iopub.execute_input": "2022-11-12T09:15:46.899710Z",
     "iopub.status.busy": "2022-11-12T09:15:46.899033Z",
     "iopub.status.idle": "2022-11-12T09:15:47.434910Z",
     "shell.execute_reply": "2022-11-12T09:15:47.434005Z",
     "shell.execute_reply.started": "2022-11-12T09:15:46.899674Z"
    },
    "scrolled": true,
    "tags": []
   },
   "outputs": [
    {
     "name": "stdout",
     "output_type": "stream",
     "text": [
      "epoch_list is [1, 2, 3, 4, 5, 6, 7, 8, 9, 10, 11, 12, 13, 14, 15, 16, 17, 18, 19, 20]\n",
      "metric_dict_list[2][metric_name] is 0.9566414203514378\n",
      "metric_list is [0.5956322200534399, 0.9209704732600081, 0.9566414203514378, 0.9635867231116522, 0.9678031481348464, 0.9716568821795011, 0.9752072527522373, 0.9786359121265196, 0.9816543178451228, 0.984255411222299, 0.9865665357811901, 0.98857991117789, 0.9902987525531519, 0.9917801323643141, 0.9930991496868291, 0.9941912166453545, 0.9951950537409929, 0.9959979307633872, 0.9966424753499641, 0.997179712229558]\n"
     ]
    },
    {
     "data": {
      "image/png": "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\n",
      "text/plain": [
       "<Figure size 640x480 with 1 Axes>"
      ]
     },
     "metadata": {},
     "output_type": "display_data"
    }
   ],
   "source": [
    "plot_metric(train_metric_list,'roc_auc_score')    "
   ]
  },
  {
   "cell_type": "code",
   "execution_count": 23,
   "metadata": {
    "execution": {
     "iopub.execute_input": "2022-10-29T13:12:24.198090Z",
     "iopub.status.busy": "2022-10-29T13:12:24.197714Z",
     "iopub.status.idle": "2022-10-29T13:12:24.342247Z",
     "shell.execute_reply": "2022-10-29T13:12:24.341321Z",
     "shell.execute_reply.started": "2022-10-29T13:12:24.198064Z"
    },
    "scrolled": true
   },
   "outputs": [
    {
     "data": {
      "image/png": "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\n",
      "text/plain": [
       "<Figure size 640x480 with 1 Axes>"
      ]
     },
     "metadata": {},
     "output_type": "display_data"
    }
   ],
   "source": [
    "plot_metric(train_metric_list,'log_loss')    "
   ]
  },
  {
   "cell_type": "markdown",
   "metadata": {},
   "source": [
    "# 陆. 课程作者的总结\n",
    "\n",
    "我们在使用Paddle做深度学习模型开发的流程基本是非常固定的，Paddle为我们做了大量的工作，我们只需要写好**DataSet**和**Model**就基本上完成了绝大多数的工作，至于模型训练/验证/测试的流程，Paddle内部有一套自身的适配机制，我们使用的时候只需要按照**八股文**的写法按照Paddle指定的格式写好即可。"
   ]
  },
  {
   "cell_type": "code",
   "execution_count": null,
   "metadata": {
    "scrolled": true
   },
   "outputs": [],
   "source": []
  }
 ],
 "metadata": {
  "kernelspec": {
   "display_name": "Python 3",
   "language": "python",
   "name": "py35-paddle1.2.0"
  },
  "language_info": {
   "codemirror_mode": {
    "name": "ipython",
    "version": 3
   },
   "file_extension": ".py",
   "mimetype": "text/x-python",
   "name": "python",
   "nbconvert_exporter": "python",
   "pygments_lexer": "ipython3",
   "version": "3.7.4"
  }
 },
 "nbformat": 4,
 "nbformat_minor": 4
}
